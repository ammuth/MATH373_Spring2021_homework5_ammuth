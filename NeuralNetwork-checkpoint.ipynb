{
 "cells": [
  {
   "cell_type": "code",
   "execution_count": 1,
   "metadata": {},
   "outputs": [],
   "source": [
    "import numpy as np\n",
    "import matplotlib.pyplot as plt\n",
    "import torch\n",
    "import pandas as pd\n"
   ]
  },
  {
   "cell_type": "code",
   "execution_count": 2,
   "metadata": {},
   "outputs": [],
   "source": [
    "data_dir = \"C:\\\\Users\\\\lngsm\\\\Documents\\\\math373\\\\MNIST\\\\\"\n",
    "df_train = pd.read_csv(data_dir + 'mnist_train.csv')\n",
    "df_val = pd.read_csv(data_dir + 'mnist_test.csv')"
   ]
  },
  {
   "cell_type": "code",
   "execution_count": 3,
   "metadata": {},
   "outputs": [
    {
     "data": {
      "text/html": [
       "<div>\n",
       "<style scoped>\n",
       "    .dataframe tbody tr th:only-of-type {\n",
       "        vertical-align: middle;\n",
       "    }\n",
       "\n",
       "    .dataframe tbody tr th {\n",
       "        vertical-align: top;\n",
       "    }\n",
       "\n",
       "    .dataframe thead th {\n",
       "        text-align: right;\n",
       "    }\n",
       "</style>\n",
       "<table border=\"1\" class=\"dataframe\">\n",
       "  <thead>\n",
       "    <tr style=\"text-align: right;\">\n",
       "      <th></th>\n",
       "      <th>5</th>\n",
       "      <th>0</th>\n",
       "      <th>0.1</th>\n",
       "      <th>0.2</th>\n",
       "      <th>0.3</th>\n",
       "      <th>0.4</th>\n",
       "      <th>0.5</th>\n",
       "      <th>0.6</th>\n",
       "      <th>0.7</th>\n",
       "      <th>0.8</th>\n",
       "      <th>...</th>\n",
       "      <th>0.608</th>\n",
       "      <th>0.609</th>\n",
       "      <th>0.610</th>\n",
       "      <th>0.611</th>\n",
       "      <th>0.612</th>\n",
       "      <th>0.613</th>\n",
       "      <th>0.614</th>\n",
       "      <th>0.615</th>\n",
       "      <th>0.616</th>\n",
       "      <th>0.617</th>\n",
       "    </tr>\n",
       "  </thead>\n",
       "  <tbody>\n",
       "    <tr>\n",
       "      <th>0</th>\n",
       "      <td>0</td>\n",
       "      <td>0</td>\n",
       "      <td>0</td>\n",
       "      <td>0</td>\n",
       "      <td>0</td>\n",
       "      <td>0</td>\n",
       "      <td>0</td>\n",
       "      <td>0</td>\n",
       "      <td>0</td>\n",
       "      <td>0</td>\n",
       "      <td>...</td>\n",
       "      <td>0</td>\n",
       "      <td>0</td>\n",
       "      <td>0</td>\n",
       "      <td>0</td>\n",
       "      <td>0</td>\n",
       "      <td>0</td>\n",
       "      <td>0</td>\n",
       "      <td>0</td>\n",
       "      <td>0</td>\n",
       "      <td>0</td>\n",
       "    </tr>\n",
       "    <tr>\n",
       "      <th>1</th>\n",
       "      <td>4</td>\n",
       "      <td>0</td>\n",
       "      <td>0</td>\n",
       "      <td>0</td>\n",
       "      <td>0</td>\n",
       "      <td>0</td>\n",
       "      <td>0</td>\n",
       "      <td>0</td>\n",
       "      <td>0</td>\n",
       "      <td>0</td>\n",
       "      <td>...</td>\n",
       "      <td>0</td>\n",
       "      <td>0</td>\n",
       "      <td>0</td>\n",
       "      <td>0</td>\n",
       "      <td>0</td>\n",
       "      <td>0</td>\n",
       "      <td>0</td>\n",
       "      <td>0</td>\n",
       "      <td>0</td>\n",
       "      <td>0</td>\n",
       "    </tr>\n",
       "    <tr>\n",
       "      <th>2</th>\n",
       "      <td>1</td>\n",
       "      <td>0</td>\n",
       "      <td>0</td>\n",
       "      <td>0</td>\n",
       "      <td>0</td>\n",
       "      <td>0</td>\n",
       "      <td>0</td>\n",
       "      <td>0</td>\n",
       "      <td>0</td>\n",
       "      <td>0</td>\n",
       "      <td>...</td>\n",
       "      <td>0</td>\n",
       "      <td>0</td>\n",
       "      <td>0</td>\n",
       "      <td>0</td>\n",
       "      <td>0</td>\n",
       "      <td>0</td>\n",
       "      <td>0</td>\n",
       "      <td>0</td>\n",
       "      <td>0</td>\n",
       "      <td>0</td>\n",
       "    </tr>\n",
       "    <tr>\n",
       "      <th>3</th>\n",
       "      <td>9</td>\n",
       "      <td>0</td>\n",
       "      <td>0</td>\n",
       "      <td>0</td>\n",
       "      <td>0</td>\n",
       "      <td>0</td>\n",
       "      <td>0</td>\n",
       "      <td>0</td>\n",
       "      <td>0</td>\n",
       "      <td>0</td>\n",
       "      <td>...</td>\n",
       "      <td>0</td>\n",
       "      <td>0</td>\n",
       "      <td>0</td>\n",
       "      <td>0</td>\n",
       "      <td>0</td>\n",
       "      <td>0</td>\n",
       "      <td>0</td>\n",
       "      <td>0</td>\n",
       "      <td>0</td>\n",
       "      <td>0</td>\n",
       "    </tr>\n",
       "    <tr>\n",
       "      <th>4</th>\n",
       "      <td>2</td>\n",
       "      <td>0</td>\n",
       "      <td>0</td>\n",
       "      <td>0</td>\n",
       "      <td>0</td>\n",
       "      <td>0</td>\n",
       "      <td>0</td>\n",
       "      <td>0</td>\n",
       "      <td>0</td>\n",
       "      <td>0</td>\n",
       "      <td>...</td>\n",
       "      <td>0</td>\n",
       "      <td>0</td>\n",
       "      <td>0</td>\n",
       "      <td>0</td>\n",
       "      <td>0</td>\n",
       "      <td>0</td>\n",
       "      <td>0</td>\n",
       "      <td>0</td>\n",
       "      <td>0</td>\n",
       "      <td>0</td>\n",
       "    </tr>\n",
       "  </tbody>\n",
       "</table>\n",
       "<p>5 rows × 785 columns</p>\n",
       "</div>"
      ],
      "text/plain": [
       "   5  0  0.1  0.2  0.3  0.4  0.5  0.6  0.7  0.8  ...  0.608  0.609  0.610  \\\n",
       "0  0  0    0    0    0    0    0    0    0    0  ...      0      0      0   \n",
       "1  4  0    0    0    0    0    0    0    0    0  ...      0      0      0   \n",
       "2  1  0    0    0    0    0    0    0    0    0  ...      0      0      0   \n",
       "3  9  0    0    0    0    0    0    0    0    0  ...      0      0      0   \n",
       "4  2  0    0    0    0    0    0    0    0    0  ...      0      0      0   \n",
       "\n",
       "   0.611  0.612  0.613  0.614  0.615  0.616  0.617  \n",
       "0      0      0      0      0      0      0      0  \n",
       "1      0      0      0      0      0      0      0  \n",
       "2      0      0      0      0      0      0      0  \n",
       "3      0      0      0      0      0      0      0  \n",
       "4      0      0      0      0      0      0      0  \n",
       "\n",
       "[5 rows x 785 columns]"
      ]
     },
     "execution_count": 3,
     "metadata": {},
     "output_type": "execute_result"
    }
   ],
   "source": [
    "df_train.head()"
   ]
  },
  {
   "cell_type": "code",
   "execution_count": 4,
   "metadata": {},
   "outputs": [],
   "source": [
    "ind = 6\n",
    "row = df_val.iloc[ind]"
   ]
  },
  {
   "cell_type": "code",
   "execution_count": 5,
   "metadata": {},
   "outputs": [],
   "source": [
    "class DigitsDataset(torch.utils.data.Dataset):  \n",
    "    def __init__(self, df):\n",
    "        self.df = df\n",
    "    def __len__(self):\n",
    "        return len(self.df)\n",
    "    def __getitem__(self, idx):\n",
    "        row = self.df.iloc[idx]\n",
    "        x = np.float32(row[1:].values)/255.0\n",
    "        y=row[0]\n",
    "        return x, y"
   ]
  },
  {
   "cell_type": "code",
   "execution_count": 6,
   "metadata": {},
   "outputs": [],
   "source": [
    "dataset_train = DigitsDataset(df_train)\n",
    "dataset_val = DigitsDataset(df_val)"
   ]
  },
  {
   "cell_type": "code",
   "execution_count": 7,
   "metadata": {},
   "outputs": [],
   "source": [
    "dataloader_train = torch.utils.data.DataLoader(dataset_train, batch_size = 64, shuffle = True)\n",
    "dataloader_val = torch.utils.data.DataLoader(dataset_val, batch_size = 64, shuffle = True)"
   ]
  },
  {
   "cell_type": "code",
   "execution_count": 8,
   "metadata": {},
   "outputs": [],
   "source": [
    "X_batch, y_batch = next(iter(dataloader_train))\n"
   ]
  },
  {
   "cell_type": "code",
   "execution_count": 9,
   "metadata": {},
   "outputs": [],
   "source": [
    "class SimpleNeuralNetwork(torch.nn.Module):\n",
    "    \n",
    "    def __init__(self):\n",
    "        super().__init__()\n",
    "        \n",
    "        self.dense1 = torch.nn.Linear(784, 100)\n",
    "        self.dense2 = torch.nn.Linear(100,10)\n",
    "        \n",
    "        self.ReLU = torch.nn.ReLU()\n",
    "    \n",
    "    def forward(self, x):\n",
    "        y = self.ReLU(self.dense1(x))\n",
    "        z = self.dense2(y)\n",
    "        \n",
    "        return z"
   ]
  },
  {
   "cell_type": "code",
   "execution_count": 10,
   "metadata": {},
   "outputs": [],
   "source": [
    "model = SimpleNeuralNetwork()\n",
    "device = torch.device('cpu')\n",
    "model = model.to(device)"
   ]
  },
  {
   "cell_type": "code",
   "execution_count": 11,
   "metadata": {},
   "outputs": [],
   "source": [
    "check = model(X_batch)"
   ]
  },
  {
   "cell_type": "code",
   "execution_count": 12,
   "metadata": {},
   "outputs": [],
   "source": [
    "loss_fun = torch.nn.CrossEntropyLoss()\n",
    "optimizer = torch.optim.Adam(model.parameters(), lr = .001)"
   ]
  },
  {
   "cell_type": "code",
   "execution_count": null,
   "metadata": {},
   "outputs": [],
   "source": []
  },
  {
   "cell_type": "code",
   "execution_count": 13,
   "metadata": {},
   "outputs": [
    {
     "name": "stderr",
     "output_type": "stream",
     "text": [
      "C:\\Users\\lngsm\\1Anaconda3\\lib\\site-packages\\torch\\autograd\\__init__.py:132: UserWarning: CUDA initialization: Found no NVIDIA driver on your system. Please check that you have an NVIDIA GPU and installed a driver from http://www.nvidia.com/Download/index.aspx (Triggered internally at  ..\\c10\\cuda\\CUDAFunctions.cpp:100.)\n",
      "  allow_unreachable=True)  # allow_unreachable flag\n"
     ]
    },
    {
     "name": "stdout",
     "output_type": "stream",
     "text": [
      "epoch:  0 train loss:  tensor(0.3608, grad_fn=<DivBackward0>) validation loss:  tensor(0.1988)\n",
      "epoch:  1 train loss:  tensor(0.1747, grad_fn=<DivBackward0>) validation loss:  tensor(0.1426)\n",
      "epoch:  2 train loss:  tensor(0.1237, grad_fn=<DivBackward0>) validation loss:  tensor(0.1203)\n",
      "epoch:  3 train loss:  tensor(0.0945, grad_fn=<DivBackward0>) validation loss:  tensor(0.0995)\n",
      "epoch:  4 train loss:  tensor(0.0751, grad_fn=<DivBackward0>) validation loss:  tensor(0.0919)\n",
      "epoch:  5 train loss:  tensor(0.0622, grad_fn=<DivBackward0>) validation loss:  tensor(0.0832)\n",
      "epoch:  6 train loss:  tensor(0.0517, grad_fn=<DivBackward0>) validation loss:  tensor(0.0831)\n",
      "epoch:  7 train loss:  tensor(0.0434, grad_fn=<DivBackward0>) validation loss:  tensor(0.0825)\n",
      "epoch:  8 train loss:  tensor(0.0364, grad_fn=<DivBackward0>) validation loss:  tensor(0.0760)\n",
      "epoch:  9 train loss:  tensor(0.0308, grad_fn=<DivBackward0>) validation loss:  tensor(0.0816)\n"
     ]
    }
   ],
   "source": [
    "num_epochs = 10\n",
    "N_train = len(dataset_train)\n",
    "N_val = len(dataset_val)\n",
    "\n",
    "train_losses = []\n",
    "val_losses = []\n",
    "\n",
    "for ep in range(num_epochs):\n",
    "    model.train()\n",
    "    train_loss = 0.0\n",
    "    batch_idx = 0\n",
    "    \n",
    "    for X_batch, Y_batch in dataloader_train:\n",
    "        X_batch = X_batch.to(device)\n",
    "        Y_batch = Y_batch.to(device)\n",
    "        \n",
    "        N_batch = X_batch.shape[0]\n",
    "        outputs = model(X_batch)\n",
    "        loss_oneBatch = loss_fun(outputs, Y_batch)\n",
    "        \n",
    "        model.zero_grad()\n",
    "        loss_oneBatch.backward()\n",
    "        optimizer.step()\n",
    "        \n",
    "        train_loss += loss_oneBatch*N_batch\n",
    "    \n",
    "    model.eval()\n",
    "    val_loss = 0.0\n",
    "    for X_batch, Y_batch in dataloader_val:\n",
    "        \n",
    "        X_batch = X_batch.to(device)\n",
    "        Y_batch = Y_batch.to(device)\n",
    "        \n",
    "        with torch.no_grad():\n",
    "            N_batch = X_batch.shape[0]\n",
    "            outputs = model(X_batch)\n",
    "            loss_oneBatch = loss_fun(outputs, Y_batch)\n",
    "            val_loss += loss_oneBatch*N_batch\n",
    "    \n",
    "    train_losses.append(train_loss/N_train)\n",
    "    val_losses.append(val_loss/N_val)\n",
    "    \n",
    "    print(\"epoch: \", ep, \"train loss: \", train_loss/N_train, \"validation loss: \", val_loss/N_val)\n",
    "    "
   ]
  },
  {
   "cell_type": "code",
   "execution_count": 16,
   "metadata": {},
   "outputs": [
    {
     "data": {
      "text/plain": [
       "Text(0.5, 1.0, 'Objective function value versus epoch')"
      ]
     },
     "execution_count": 16,
     "metadata": {},
     "output_type": "execute_result"
    },
    {
     "data": {
      "image/png": "[encoded data removed]",
      "text/plain": [
       "<Figure size 432x288 with 1 Axes>"
      ]
     },
     "metadata": {
      "needs_background": "light"
     },
     "output_type": "display_data"
    }
   ],
   "source": [
    "plt.plot(train_losses, label = 'training loss')\n",
    "plt.plot(val_losses, label = 'validation loss')\n",
    "plt.legend(loc = 'upper right')\n",
    "plt.title('Objective function value versus epoch')\n"
   ]
  },
  {
   "cell_type": "code",
   "execution_count": 17,
   "metadata": {},
   "outputs": [
    {
     "name": "stdout",
     "output_type": "stream",
     "text": [
      "Accuracy:  tensor(0.9763)\n"
     ]
    }
   ],
   "source": [
    "num_correct = 0\n",
    "model.eval()\n",
    "\n",
    "for X_batch, Y_batch in dataloader_val:\n",
    "    \n",
    "    X_batch = X_batch.to(device)\n",
    "    Y_batch = Y_batch.to(device)\n",
    "    \n",
    "    with torch.no_grad():\n",
    "        \n",
    "        outputs = model(X_batch)\n",
    "        num_correct += sum(np.argmax(outputs, axis = 1) == Y_batch)\n",
    "\n",
    "print(\"Accuracy: \", num_correct/N_val)\n",
    "    "
   ]
  },
  {
   "cell_type": "code",
   "execution_count": 39,
   "metadata": {},
   "outputs": [],
   "source": [
    "#####PART 2\n",
    "import numpy as np\n",
    "import pandas as pd\n",
    "import tensorflow as tf\n",
    "from tensorflow.keras import layers\n",
    "from matplotlib import pyplot as plt\n",
    "\n",
    "# The following lines adjust the granularity of reporting. \n",
    "pd.options.display.max_rows = 10\n",
    "pd.options.display.float_format = \"{:.1f}\".format\n",
    "\n",
    "# The following line improves formatting when ouputting NumPy arrays.\n",
    "np.set_printoptions(linewidth = 200)"
   ]
  },
  {
   "cell_type": "code",
   "execution_count": 40,
   "metadata": {},
   "outputs": [],
   "source": [
    "(x_train, y_train),(x_test, y_test) = tf.keras.datasets.mnist.load_data()"
   ]
  },
  {
   "cell_type": "code",
   "execution_count": null,
   "metadata": {},
   "outputs": [],
   "source": []
  },
  {
   "cell_type": "code",
   "execution_count": 41,
   "metadata": {},
   "outputs": [
    {
     "name": "stdout",
     "output_type": "stream",
     "text": [
      "[0.         0.         0.         0.         0.         0.         0.         0.55294118 0.88627451 0.22352941 0.         0.         0.         0.         0.         0.         0.         0.\n",
      " 0.         0.         0.         0.         0.         0.         0.         0.         0.         0.        ]\n"
     ]
    }
   ],
   "source": [
    "x_train_normalized = x_train / 255.0\n",
    "x_test_normalized = x_test / 255.0\n",
    "print(x_train_normalized[2900][12]) # Output a normalized row"
   ]
  },
  {
   "cell_type": "code",
   "execution_count": 42,
   "metadata": {},
   "outputs": [
    {
     "name": "stdout",
     "output_type": "stream",
     "text": [
      "Loaded the plot_curve function.\n"
     ]
    }
   ],
   "source": [
    "def plot_curve(epochs, hist, list_of_metrics):\n",
    "  \"\"\"Plot a curve of one or more classification metrics vs. epoch.\"\"\"  \n",
    "  # list_of_metrics should be one of the names shown in:\n",
    "  # https://www.tensorflow.org/tutorials/structured_data/imbalanced_data#define_the_model_and_metrics  \n",
    "\n",
    "  plt.figure()\n",
    "  plt.xlabel(\"Epoch\")\n",
    "  plt.ylabel(\"Value\")\n",
    "\n",
    "  for m in list_of_metrics:\n",
    "    x = hist[m]\n",
    "    plt.plot(epochs[1:], x[1:], label=m)\n",
    "\n",
    "  plt.legend()\n",
    "\n",
    "print(\"Loaded the plot_curve function.\")"
   ]
  },
  {
   "cell_type": "code",
   "execution_count": 43,
   "metadata": {},
   "outputs": [],
   "source": [
    "def create_model(my_learning_rate):\n",
    "  \"\"\"Create and compile a deep neural net.\"\"\"\n",
    "  \n",
    "  # All models in this course are sequential.\n",
    "  model = tf.keras.models.Sequential()\n",
    "\n",
    "  # The features are stored in a two-dimensional 28X28 array. \n",
    "  # Flatten that two-dimensional array into a a one-dimensional \n",
    "  # 784-element array.\n",
    "  model.add(tf.keras.layers.Flatten(input_shape=(28, 28)))\n",
    "\n",
    "  # Define the first hidden layer.   \n",
    "  model.add(tf.keras.layers.Dense(units=32, activation='relu'))\n",
    "  \n",
    "  # Define a dropout regularization layer. \n",
    "  model.add(tf.keras.layers.Dropout(rate=0.2))\n",
    "\n",
    "  # Define the output layer. The units parameter is set to 10 because\n",
    "  # the model must choose among 10 possible output values (representing\n",
    "  # the digits from 0 to 9, inclusive).\n",
    "  #\n",
    "  # Don't change this layer.\n",
    "  model.add(tf.keras.layers.Dense(units=10, activation='softmax'))     \n",
    "                           \n",
    "  # Construct the layers into a model that TensorFlow can execute.  \n",
    "  # Notice that the loss function for multi-class classification\n",
    "  # is different than the loss function for binary classification.  \n",
    "  model.compile(optimizer=tf.keras.optimizers.Adam(lr=my_learning_rate),\n",
    "                loss=\"sparse_categorical_crossentropy\",\n",
    "                metrics=['accuracy'])\n",
    "  \n",
    "  return model    \n",
    "\n",
    "\n",
    "def train_model(model, train_features, train_label, epochs,\n",
    "                batch_size=None, validation_split=0.1):\n",
    "  \"\"\"Train the model by feeding it data.\"\"\"\n",
    "\n",
    "  history = model.fit(x=train_features, y=train_label, batch_size=batch_size,\n",
    "                      epochs=epochs, shuffle=True, \n",
    "                      validation_split=validation_split)\n",
    " \n",
    "  # To track the progression of training, gather a snapshot\n",
    "  # of the model's metrics at each epoch. \n",
    "  epochs = history.epoch\n",
    "  hist = pd.DataFrame(history.history)\n",
    "\n",
    "  return epochs, hist    "
   ]
  },
  {
   "cell_type": "code",
   "execution_count": 44,
   "metadata": {},
   "outputs": [
    {
     "name": "stdout",
     "output_type": "stream",
     "text": [
      "Train on 48000 samples, validate on 12000 samples\n",
      "Epoch 1/50\n",
      "48000/48000 [==============================] - 1s 25us/sample - loss: 1.7968 - acc: 0.4255 - val_loss: 1.0713 - val_acc: 0.7794\n",
      "Epoch 2/50\n",
      "48000/48000 [==============================] - 1s 14us/sample - loss: 0.9743 - acc: 0.7084 - val_loss: 0.5666 - val_acc: 0.8554\n",
      "Epoch 3/50\n",
      "48000/48000 [==============================] - 1s 12us/sample - loss: 0.6742 - acc: 0.7951 - val_loss: 0.4267 - val_acc: 0.8869\n",
      "Epoch 4/50\n",
      "48000/48000 [==============================] - 1s 12us/sample - loss: 0.5515 - acc: 0.8337 - val_loss: 0.3667 - val_acc: 0.9017\n",
      "Epoch 5/50\n",
      "48000/48000 [==============================] - 1s 11us/sample - loss: 0.4897 - acc: 0.8537 - val_loss: 0.3302 - val_acc: 0.9086\n",
      "Epoch 6/50\n",
      "48000/48000 [==============================] - 1s 11us/sample - loss: 0.4516 - acc: 0.8679 - val_loss: 0.3094 - val_acc: 0.9139\n",
      "Epoch 7/50\n",
      "48000/48000 [==============================] - 1s 11us/sample - loss: 0.4242 - acc: 0.8747 - val_loss: 0.2935 - val_acc: 0.9170\n",
      "Epoch 8/50\n",
      "48000/48000 [==============================] - 1s 11us/sample - loss: 0.4035 - acc: 0.8812 - val_loss: 0.2803 - val_acc: 0.9210\n",
      "Epoch 9/50\n",
      "48000/48000 [==============================] - 1s 11us/sample - loss: 0.3855 - acc: 0.8859 - val_loss: 0.2673 - val_acc: 0.9254\n",
      "Epoch 10/50\n",
      "48000/48000 [==============================] - 1s 12us/sample - loss: 0.3724 - acc: 0.8889 - val_loss: 0.2601 - val_acc: 0.9269\n",
      "Epoch 11/50\n",
      "48000/48000 [==============================] - 1s 11us/sample - loss: 0.3616 - acc: 0.8936 - val_loss: 0.2534 - val_acc: 0.9274\n",
      "Epoch 12/50\n",
      "48000/48000 [==============================] - 1s 12us/sample - loss: 0.3509 - acc: 0.8973 - val_loss: 0.2453 - val_acc: 0.9294\n",
      "Epoch 13/50\n",
      "48000/48000 [==============================] - 1s 12us/sample - loss: 0.3408 - acc: 0.8990 - val_loss: 0.2393 - val_acc: 0.9325\n",
      "Epoch 14/50\n",
      "48000/48000 [==============================] - 1s 12us/sample - loss: 0.3323 - acc: 0.9015 - val_loss: 0.2346 - val_acc: 0.9325\n",
      "Epoch 15/50\n",
      "48000/48000 [==============================] - 1s 11us/sample - loss: 0.3239 - acc: 0.9043 - val_loss: 0.2302 - val_acc: 0.9345\n",
      "Epoch 16/50\n",
      "48000/48000 [==============================] - 1s 13us/sample - loss: 0.3148 - acc: 0.9084 - val_loss: 0.2242 - val_acc: 0.9351\n",
      "Epoch 17/50\n",
      "48000/48000 [==============================] - 1s 15us/sample - loss: 0.3089 - acc: 0.9090 - val_loss: 0.2183 - val_acc: 0.9377\n",
      "Epoch 18/50\n",
      "48000/48000 [==============================] - 1s 14us/sample - loss: 0.3028 - acc: 0.9106 - val_loss: 0.2154 - val_acc: 0.9379\n",
      "Epoch 19/50\n",
      "48000/48000 [==============================] - 1s 14us/sample - loss: 0.2981 - acc: 0.9110 - val_loss: 0.2115 - val_acc: 0.9392\n",
      "Epoch 20/50\n",
      "48000/48000 [==============================] - 1s 15us/sample - loss: 0.2912 - acc: 0.9149 - val_loss: 0.2069 - val_acc: 0.9401\n",
      "Epoch 21/50\n",
      "48000/48000 [==============================] - 1s 16us/sample - loss: 0.2880 - acc: 0.9138 - val_loss: 0.2047 - val_acc: 0.9405\n",
      "Epoch 22/50\n",
      "48000/48000 [==============================] - 1s 14us/sample - loss: 0.2852 - acc: 0.9150 - val_loss: 0.1998 - val_acc: 0.9426\n",
      "Epoch 23/50\n",
      "48000/48000 [==============================] - 1s 15us/sample - loss: 0.2775 - acc: 0.9184 - val_loss: 0.1977 - val_acc: 0.9433\n",
      "Epoch 24/50\n",
      "48000/48000 [==============================] - 1s 15us/sample - loss: 0.2715 - acc: 0.9190 - val_loss: 0.1935 - val_acc: 0.9445\n",
      "Epoch 25/50\n",
      "48000/48000 [==============================] - 1s 15us/sample - loss: 0.2700 - acc: 0.9196 - val_loss: 0.1926 - val_acc: 0.9445\n",
      "Epoch 26/50\n",
      "48000/48000 [==============================] - 1s 14us/sample - loss: 0.2650 - acc: 0.9221 - val_loss: 0.1892 - val_acc: 0.9460\n",
      "Epoch 27/50\n",
      "48000/48000 [==============================] - 1s 14us/sample - loss: 0.2621 - acc: 0.9228 - val_loss: 0.1870 - val_acc: 0.9463\n",
      "Epoch 28/50\n",
      "48000/48000 [==============================] - 1s 14us/sample - loss: 0.2581 - acc: 0.9233 - val_loss: 0.1850 - val_acc: 0.9469\n",
      "Epoch 29/50\n",
      "48000/48000 [==============================] - 1s 15us/sample - loss: 0.2528 - acc: 0.9232 - val_loss: 0.1824 - val_acc: 0.9478\n",
      "Epoch 30/50\n",
      "48000/48000 [==============================] - 1s 14us/sample - loss: 0.2500 - acc: 0.9257 - val_loss: 0.1797 - val_acc: 0.9489\n",
      "Epoch 31/50\n",
      "48000/48000 [==============================] - 1s 14us/sample - loss: 0.2433 - acc: 0.9263 - val_loss: 0.1766 - val_acc: 0.9499\n",
      "Epoch 32/50\n",
      "48000/48000 [==============================] - 1s 15us/sample - loss: 0.2390 - acc: 0.9284 - val_loss: 0.1758 - val_acc: 0.9498\n",
      "Epoch 33/50\n",
      "48000/48000 [==============================] - 1s 15us/sample - loss: 0.2393 - acc: 0.9286 - val_loss: 0.1721 - val_acc: 0.9510\n",
      "Epoch 34/50\n",
      "48000/48000 [==============================] - 1s 14us/sample - loss: 0.2359 - acc: 0.9302 - val_loss: 0.1714 - val_acc: 0.9514\n",
      "Epoch 35/50\n",
      "48000/48000 [==============================] - 1s 15us/sample - loss: 0.2304 - acc: 0.9309 - val_loss: 0.1694 - val_acc: 0.9518\n",
      "Epoch 36/50\n",
      "48000/48000 [==============================] - 1s 14us/sample - loss: 0.2301 - acc: 0.9299 - val_loss: 0.1684 - val_acc: 0.9523\n",
      "Epoch 37/50\n",
      "48000/48000 [==============================] - 1s 15us/sample - loss: 0.2260 - acc: 0.9314 - val_loss: 0.1664 - val_acc: 0.9523\n",
      "Epoch 38/50\n",
      "48000/48000 [==============================] - 1s 15us/sample - loss: 0.2222 - acc: 0.9338 - val_loss: 0.1642 - val_acc: 0.9528\n",
      "Epoch 39/50\n",
      "48000/48000 [==============================] - 1s 14us/sample - loss: 0.2192 - acc: 0.9340 - val_loss: 0.1622 - val_acc: 0.9525\n",
      "Epoch 40/50\n",
      "48000/48000 [==============================] - 1s 14us/sample - loss: 0.2176 - acc: 0.9334 - val_loss: 0.1613 - val_acc: 0.9536\n",
      "Epoch 41/50\n",
      "48000/48000 [==============================] - 1s 14us/sample - loss: 0.2188 - acc: 0.9332 - val_loss: 0.1605 - val_acc: 0.9539\n",
      "Epoch 42/50\n",
      "48000/48000 [==============================] - 1s 15us/sample - loss: 0.2127 - acc: 0.9346 - val_loss: 0.1589 - val_acc: 0.9548\n",
      "Epoch 43/50\n",
      "48000/48000 [==============================] - 1s 15us/sample - loss: 0.2119 - acc: 0.9358 - val_loss: 0.1583 - val_acc: 0.9544\n",
      "Epoch 44/50\n",
      "48000/48000 [==============================] - 1s 15us/sample - loss: 0.2086 - acc: 0.9373 - val_loss: 0.1562 - val_acc: 0.9556\n",
      "Epoch 45/50\n",
      "48000/48000 [==============================] - 1s 14us/sample - loss: 0.2078 - acc: 0.9364 - val_loss: 0.1554 - val_acc: 0.9545\n",
      "Epoch 46/50\n",
      "48000/48000 [==============================] - 1s 15us/sample - loss: 0.2047 - acc: 0.9370 - val_loss: 0.1543 - val_acc: 0.9564\n",
      "Epoch 47/50\n",
      "48000/48000 [==============================] - 1s 15us/sample - loss: 0.2061 - acc: 0.9383 - val_loss: 0.1544 - val_acc: 0.9563\n",
      "Epoch 48/50\n",
      "48000/48000 [==============================] - 1s 15us/sample - loss: 0.2025 - acc: 0.9392 - val_loss: 0.1529 - val_acc: 0.9572\n",
      "Epoch 49/50\n",
      "48000/48000 [==============================] - 1s 15us/sample - loss: 0.2008 - acc: 0.9388 - val_loss: 0.1520 - val_acc: 0.9572\n",
      "Epoch 50/50\n",
      "48000/48000 [==============================] - 1s 15us/sample - loss: 0.2003 - acc: 0.9388 - val_loss: 0.1515 - val_acc: 0.9572\n",
      "\n",
      " Evaluate the new model against the test set:\n",
      "10000/10000 [==============================] - 0s 11us/sample - loss: 0.1568 - acc: 0.9544\n"
     ]
    },
    {
     "data": {
      "text/plain": [
       "[0.15682391077280045, 0.9544]"
      ]
     },
     "execution_count": 44,
     "metadata": {},
     "output_type": "execute_result"
    },
    {
     "data": {
      "image/png": "[encoded data removed]",
      "text/plain": [
       "<Figure size 432x288 with 1 Axes>"
      ]
     },
     "metadata": {
      "needs_background": "light"
     },
     "output_type": "display_data"
    }
   ],
   "source": [
    "# The following variables are the hyperparameters.\n",
    "learning_rate = 0.003\n",
    "epochs = 50\n",
    "batch_size = 4000\n",
    "validation_split = 0.2\n",
    "\n",
    "# Establish the model's topography.\n",
    "my_model = create_model(learning_rate)\n",
    "\n",
    "# Train the model on the normalized training set.\n",
    "epochs, hist = train_model(my_model, x_train_normalized, y_train, \n",
    "                           epochs, batch_size, validation_split)\n",
    "\n",
    "#print(hist)\n",
    "# Plot a graph of the metric vs. epochs.\n",
    "list_of_metrics_to_plot = ['acc']\n",
    "plot_curve(epochs, hist, list_of_metrics_to_plot)\n",
    "\n",
    "# Evaluate against the test set.\n",
    "print(\"\\n Evaluate the new model against the test set:\")\n",
    "my_model.evaluate(x=x_test_normalized, y=y_test, batch_size=batch_size)"
   ]
  },
  {
   "cell_type": "code",
   "execution_count": null,
   "metadata": {},
   "outputs": [],
   "source": []
  }
 ],
 "metadata": {
  "kernelspec": {
   "display_name": "Python 3",
   "language": "python",
   "name": "python3"
  },
  "language_info": {
   "codemirror_mode": {
    "name": "ipython",
    "version": 3
   },
   "file_extension": ".py",
   "mimetype": "text/x-python",
   "name": "python",
   "nbconvert_exporter": "python",
   "pygments_lexer": "ipython3",
   "version": "3.7.1"
  }
 },
 "nbformat": 4,
 "nbformat_minor": 4
}
